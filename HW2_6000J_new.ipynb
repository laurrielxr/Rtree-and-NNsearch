{
  "nbformat": 4,
  "nbformat_minor": 0,
  "metadata": {
    "colab": {
      "name": "HW2_6000J_new.ipynb",
      "provenance": [],
      "collapsed_sections": []
    },
    "kernelspec": {
      "name": "python3",
      "display_name": "Python 3"
    },
    "language_info": {
      "name": "python"
    }
  },
  "cells": [
    {
      "cell_type": "code",
      "metadata": {
        "id": "ptELYytJ7kmb"
      },
      "source": [
        "import pandas as pd\n",
        "import numpy as np\n",
        "from matplotlib.patches import Rectangle\n",
        "from matplotlib import pyplot as plt\n",
        "import matplotlib.pyplot as plt\n",
        "import matplotlib.patches as patches\n",
        "import matplotlib.patches as patches\n",
        "import math\n",
        "import sys\n"
      ],
      "execution_count": 345,
      "outputs": []
    },
    {
      "cell_type": "code",
      "metadata": {
        "id": "fr33YtvbqZD4"
      },
      "source": [
        "######   task1"
      ],
      "execution_count": null,
      "outputs": []
    },
    {
      "cell_type": "code",
      "metadata": {
        "id": "JtXz24eu952G"
      },
      "source": [
        "# class of rectangle\n",
        "class Rect:\n",
        "    def __init__(self, x1, y1, x2, y2):\n",
        "        self.x1 = x1\n",
        "        self.y1 = y1\n",
        "        self.x2 = x2\n",
        "        self.y2 = y2\n",
        "# calculate the perimeter of rectangle\n",
        "    def perimeter(self):\n",
        "        return 2 * (abs(self.x2 - self.x1) + abs(self.y2 - self.y1))\n",
        "# Determine whether two rectangles overlap\n",
        "    def is_overlap(self, rect):\n",
        "      if self.y1 > rect.y2 or self.y2 < rect.y1 or self.x1 > rect.x2 or self.x2 < rect.y1:\n",
        "        return False\n",
        "      return True\n",
        "# Determine whether another rectangle is contained by our rectangle\n",
        "    def contain_rect(self, rect):\n",
        "        return self.x1 < rect.x1 and self.y1 < rect.y1 and self.x2 > rect.x2 and self.y2 > rect.y2\n",
        "# Determine whether our rectangle contains a point\n",
        "    def has_point(self, point):\n",
        "        return self.x1 <= point.x <= self.x2 and self.y1 <= point.y <= self.y2\n",
        "\n",
        "    def __str__(self):\n",
        "        return \"Rect: ({}, {}), ({}, {})\".format(self.x1, self.y1, self.x2, self.y2)\n"
      ],
      "execution_count": null,
      "outputs": []
    },
    {
      "cell_type": "code",
      "metadata": {
        "id": "3vU2f9HEKR10"
      },
      "source": [
        "# class of point   \n",
        "class Point:\n",
        "    def __init__(self, pointInfo):\n",
        "        self.id = pointInfo[0]\n",
        "        self.x = pointInfo[1]\n",
        "        self.y = pointInfo[2]\n",
        "\n",
        "    def __str__(self):\n",
        "        return \"Point #{}: ({}, {})\".format(self.id, self.x, self.y)\n",
        "\n",
        "\n",
        "# def sequential_query(points, query):\n",
        "#     result = 0\n",
        "#     for point in points:\n",
        "#         if query.x1 <= point.x <= query.x2 and query.y1 <= point.y <= query.y2:\n",
        "#             result = result + 1\n",
        "#     return result\n"
      ],
      "execution_count": null,
      "outputs": []
    },
    {
      "cell_type": "code",
      "metadata": {
        "id": "xjSlGAglKR9N"
      },
      "source": [
        "# class of node\n",
        "class Node(object):\n",
        "    def __init__(self, d, n, height):\n",
        "        self.d = d\n",
        "        self.n = n\n",
        "        self.id = 0\n",
        "        # for internal nodes\n",
        "        self.child_nodes = []\n",
        "        # for leaf nodespyth\n",
        "        self.data_points = []\n",
        "        self.parent_node = None\n",
        "        self.MBR = Rect(-1, -1, -1, -1)\n",
        "        self.height = height\n",
        "\n",
        "    def add_point(self, point):\n",
        "        # update in the right position to keep the list ordered\n",
        "        self.add_points([point])\n",
        "        pass\n",
        "\n",
        "    def add_points(self, points):\n",
        "        self.data_points += points\n",
        "        # update MBR\n",
        "        self.update_MBR()\n",
        "        pass\n",
        "    \n",
        "    # Calculate the increment of perimeter after adding the point\n",
        "    def perimeter_increase_with_point(self, point):\n",
        "        x1 = point.x if point.x < self.MBR.x1 else self.MBR.x1\n",
        "        y1 = point.y if point.y < self.MBR.y1 else self.MBR.y1\n",
        "        x2 = point.x if point.x > self.MBR.x2 else self.MBR.x2\n",
        "        y2 = point.y if point.y > self.MBR.y2 else self.MBR.y2\n",
        "        return Rect(x1, y1, x2, y2).perimeter() - self.perimeter()\n",
        "\n",
        "    def perimeter(self):\n",
        "        # only calculate the half perimeter here\n",
        "        return self.MBR.perimeter()\n",
        "\n",
        "    #def is_underflow(self):\n",
        "      # Determine whether the underflow, if it is a leaf node and the space is enough, then underflow\n",
        "      # Or if it is a non leaf node and has enough space, then underflow\n",
        "        #return (self.is_leaf() and len(self.data_points) < math.ceil(self.n / 2)) or \\\n",
        "               #(not self.is_leaf() and len(self.child_nodes) < math.ceil(self.d / 2))\n",
        "\n",
        "    def is_overflow(self):\n",
        "      # Determine whether the oerflow, if it is a leaf node and the space is enough, then oerflow\n",
        "      # Or if it is a non leaf node and has enough space, then overflow\n",
        "        return (self.is_leaf() and len(self.data_points) > self.n) or \\\n",
        "               (not self.is_leaf() and len(self.child_nodes) > self.d)\n",
        "\n",
        "    def is_root(self):\n",
        "      # Determine whether it is the root nod\n",
        "        return self.parent_node is None\n",
        "\n",
        "    def is_leaf(self):\n",
        "        return len(self.child_nodes) == 0\n",
        "    # add child node\n",
        "    def add_child_node(self, node):\n",
        "        self.add_child_nodes([node])\n",
        "        pass\n",
        "\n",
        "    def add_child_nodes(self, nodes):\n",
        "        for node in nodes:\n",
        "            node.parent_node = self\n",
        "            self.child_nodes.append(node)\n",
        "        self.update_MBR()\n",
        "        pass\n",
        "    # update MBR in order to ensure that MBR can contain all the points\n",
        "    def update_MBR(self):\n",
        "        if self.is_leaf():\n",
        "            self.MBR.x1 = min([point.x for point in self.data_points])\n",
        "            self.MBR.x2 = max([point.x for point in self.data_points])\n",
        "            self.MBR.y1 = min([point.y for point in self.data_points])\n",
        "            self.MBR.y2 = max([point.y for point in self.data_points])\n",
        "        else:\n",
        "            self.MBR.x1 = min([child.MBR.x1 for child in self.child_nodes])\n",
        "            self.MBR.x2 = max([child.MBR.x2 for child in self.child_nodes])\n",
        "            self.MBR.y1 = min([child.MBR.y1 for child in self.child_nodes])\n",
        "            self.MBR.y2 = max([child.MBR.y2 for child in self.child_nodes])\n",
        "        if self.parent_node and not self.parent_node.MBR.contain_rect(self.MBR):\n",
        "            self.parent_node.update_MBR()\n",
        "        pass\n",
        "\n",
        "    # Get perimeter of an MBR formed by a list of data points\n",
        "    @staticmethod\n",
        "    def get_points_MBR_perimeter(points):\n",
        "        x1 = min([point.x for point in points])\n",
        "        x2 = max([point.x for point in points])\n",
        "        y1 = min([point.y for point in points])\n",
        "        y2 = max([point.y for point in points])\n",
        "        return Rect(x1, y1, x2, y2).perimeter()\n",
        "\n",
        "    @staticmethod\n",
        "    def get_nodes_MBR_perimeter(nodes):\n",
        "        x1 = min([node.MBR.x1 for node in nodes])\n",
        "        x2 = max([node.MBR.x2 for node in nodes])\n",
        "        y1 = min([node.MBR.y1 for node in nodes])\n",
        "        y2 = max([node.MBR.y2 for node in nodes])\n",
        "        return Rect(x1, y1, x2, y2).perimeter()\n",
        "  \n"
      ],
      "execution_count": 53,
      "outputs": []
    },
    {
      "cell_type": "code",
      "metadata": {
        "id": "mmvJjwNgKSDn"
      },
      "source": [
        "class RegionTree:\n",
        "# rtree class\n",
        "    def __init__(self, d=4, n=4):\n",
        "        self.d = d\n",
        "        self.n = n\n",
        "        self.root = Node(self.d, self.n, height = 1)\n",
        "\n",
        "    def insert_point(self, point, cur_node=None):\n",
        "        # init U as node\n",
        "        #print(\"{} is leaf: {}\".format(self.root, self.root.is_leaf()))\n",
        "        if cur_node is None:\n",
        "            cur_node = self.root\n",
        "        #print(\"{} is leaf: {}\".format(cur_node, cur_node.is_leaf()))\n",
        "        # Insertion logic start\n",
        "        if cur_node.is_leaf():\n",
        "            cur_node.add_point(point)\n",
        "            # handle overflow\n",
        "            if cur_node.is_overflow():\n",
        "                self.handle_overflow(cur_node)\n",
        "        else:\n",
        "            chosen_child = self.choose_best_child(cur_node, point)\n",
        "            self.insert_point(point, cur_node=chosen_child)\n",
        "\n",
        "    # Find a suitable one to expand:\n",
        "    @staticmethod\n",
        "    def choose_best_child(node, point):\n",
        "        best_child = None\n",
        "        best_perimeter = 0\n",
        "        # Scan the child nodes\n",
        "        \n",
        "        for item in node.child_nodes:\n",
        "            if node.child_nodes.index(item) == 0 or best_perimeter > item.perimeter_increase_with_point(point):\n",
        "                best_child = item\n",
        "                best_perimeter = item.perimeter_increase_with_point(point)\n",
        "        return best_child\n",
        "\n",
        "    def handle_overflow(self, node):\n",
        "    \n",
        "        node, new_node = self.split_leaf_node(node) if node.is_leaf() else self.split_internal_node(node)\n",
        "\n",
        "        if self.root is node:\n",
        "            self.root = Node(self.d, self.n, height=node.height+1)\n",
        "            self.root.add_child_nodes([node, new_node])\n",
        "        else:\n",
        "            node.parent_node.add_child_node(new_node)\n",
        "            if node.parent_node.is_overflow():\n",
        "                self.handle_overflow(node.parent_node)\n",
        "\n",
        "    # split leaf node\n",
        "    def split_leaf_node(self, node):\n",
        "        m = len(node.data_points)\n",
        "        best_perimeter = -1\n",
        "        best_set_1 = []\n",
        "        best_set_2 = []\n",
        "        # Run x axis, and  sort all poins by x\n",
        "        all_point_sorted_by_x = sorted(node.data_points, key=lambda point: point.x)\n",
        "        for i in range(int(0.4 * m), int(m * 0.6) + 1):\n",
        "            list_point_1 = all_point_sorted_by_x[:i]\n",
        "            list_point_2 = all_point_sorted_by_x[i:]\n",
        "            temp_sum_perimeter = Node.get_points_MBR_perimeter(list_point_1) \\\n",
        "                                 + Node.get_points_MBR_perimeter(list_point_2)\n",
        "            if best_perimeter == -1 or best_perimeter > temp_sum_perimeter:\n",
        "                best_perimeter = temp_sum_perimeter\n",
        "                best_set_1 = list_point_1\n",
        "                best_set_2 = list_point_2\n",
        "        # Run y axis, and  sort all poins by y\n",
        "        all_point_sorted_by_y = sorted(node.data_points, key=lambda point: point.y)\n",
        "        for i in range(int(0.4 * m), int(m * 0.6) + 1):\n",
        "            list_point_1 = all_point_sorted_by_y[:i]\n",
        "            list_point_2 = all_point_sorted_by_y[i:]\n",
        "            temp_sum_perimeter = Node.get_points_MBR_perimeter(list_point_1) \\\n",
        "                                 + Node.get_points_MBR_perimeter(list_point_2)\n",
        "            if best_perimeter == -1 or best_perimeter > temp_sum_perimeter:\n",
        "                best_perimeter = temp_sum_perimeter\n",
        "                best_set_1 = list_point_1\n",
        "                best_set_2 = list_point_2\n",
        "        node.data_points = best_set_1\n",
        "        node.update_MBR()\n",
        "        new_node = Node(self.d, self.n, height = node.height)\n",
        "        new_node.add_points(best_set_2)\n",
        "        return node, new_node\n",
        "\n",
        "    # split non leaf node\n",
        "    def split_internal_node(self, node):\n",
        "        m = len(node.child_nodes)\n",
        "        best_perimeter = -1\n",
        "        best_set_1 = []\n",
        "        best_set_2 = []\n",
        "        # Run x axis\n",
        "        all_node_sorted_by_x = sorted(node.child_nodes, key=lambda child: child.MBR.x1)\n",
        "        for i in range(int(0.4 * m), int(m * 0.6) + 1):\n",
        "            list_node_1 = all_node_sorted_by_x[:i]\n",
        "            list_node_2 = all_node_sorted_by_x[i:]\n",
        "            temp_sum_perimeter = Node.get_nodes_MBR_perimeter(list_node_1) \\\n",
        "                                 + Node.get_nodes_MBR_perimeter(list_node_2)\n",
        "            if best_perimeter == -1 or best_perimeter > temp_sum_perimeter:\n",
        "                best_perimeter = temp_sum_perimeter\n",
        "                best_set_1 = list_node_1\n",
        "                best_set_2 = list_node_2\n",
        "                # Run y axis\n",
        "        all_node_sorted_by_y = sorted(node.child_nodes, key=lambda child: child.MBR.y1)\n",
        "        for i in range(int(0.4 * m), int(m * 0.6) + 1):\n",
        "            list_node_1 = all_node_sorted_by_y[:i]\n",
        "            list_node_2 = all_node_sorted_by_y[i:]\n",
        "            temp_sum_perimeter = Node.get_nodes_MBR_perimeter(list_node_1) \\\n",
        "                                 + Node.get_nodes_MBR_perimeter(list_node_2)\n",
        "            if best_perimeter == -1 or best_perimeter > temp_sum_perimeter:\n",
        "                best_perimeter = temp_sum_perimeter\n",
        "                best_set_1 = list_node_1\n",
        "                best_set_2 = list_node_2\n",
        "        node.child_nodes = best_set_1\n",
        "        node.update_MBR()\n",
        "        new_node = Node(self.d, self.n, height = node.height)\n",
        "        new_node.add_child_nodes(best_set_2)\n",
        "        return node, new_node\n",
        "\n",
        "    # Take in a Rectangle and return number of data point that is covered by the R tree.\n",
        "    def region_query(self, rect, node=None):\n",
        "        # initiate with root\n",
        "        if node is None:\n",
        "            node = self.root\n",
        "\n",
        "        if node.is_leaf():\n",
        "            # print(\"get here\")\n",
        "            count = 0\n",
        "            for point in node.data_points:\n",
        "                if rect.has_point(point):\n",
        "                    count += 1\n",
        "            return count\n",
        "        else:\n",
        "            print([child.MBR for child in node.child_nodes])\n",
        "            total = 0\n",
        "            for child in node.child_nodes:\n",
        "                print(\"{} and {} is overlapped {}\".format(rect, child.MBR, rect.is_overlap(child.MBR)))\n",
        "                if rect.is_overlap(child.MBR):\n",
        "                    total += self.region_query(rect, child)\n",
        "            return total\n",
        "\n"
      ],
      "execution_count": null,
      "outputs": []
    },
    {
      "cell_type": "code",
      "metadata": {
        "colab": {
          "base_uri": "https://localhost:8080/",
          "height": 413
        },
        "id": "TWdSn04o7qfm",
        "outputId": "785bf9bf-7536-4fec-f5e9-30d8ccce0501"
      },
      "source": [
        "data = pd.read_csv('/content/gdrive/MyDrive/AllPOI Locatoion Only.csv', delimiter=',', names=[\"latitude\", \"longitude\"])\n",
        "data\n"
      ],
      "execution_count": null,
      "outputs": [
        {
          "output_type": "execute_result",
          "data": {
            "text/html": [
              "<div>\n",
              "<style scoped>\n",
              "    .dataframe tbody tr th:only-of-type {\n",
              "        vertical-align: middle;\n",
              "    }\n",
              "\n",
              "    .dataframe tbody tr th {\n",
              "        vertical-align: top;\n",
              "    }\n",
              "\n",
              "    .dataframe thead th {\n",
              "        text-align: right;\n",
              "    }\n",
              "</style>\n",
              "<table border=\"1\" class=\"dataframe\">\n",
              "  <thead>\n",
              "    <tr style=\"text-align: right;\">\n",
              "      <th></th>\n",
              "      <th>latitude</th>\n",
              "      <th>longitude</th>\n",
              "    </tr>\n",
              "  </thead>\n",
              "  <tbody>\n",
              "    <tr>\n",
              "      <th>0</th>\n",
              "      <td>116.303382</td>\n",
              "      <td>39.908620</td>\n",
              "    </tr>\n",
              "    <tr>\n",
              "      <th>1</th>\n",
              "      <td>116.802076</td>\n",
              "      <td>40.335921</td>\n",
              "    </tr>\n",
              "    <tr>\n",
              "      <th>2</th>\n",
              "      <td>116.807570</td>\n",
              "      <td>40.362750</td>\n",
              "    </tr>\n",
              "    <tr>\n",
              "      <th>3</th>\n",
              "      <td>116.839759</td>\n",
              "      <td>40.371410</td>\n",
              "    </tr>\n",
              "    <tr>\n",
              "      <th>4</th>\n",
              "      <td>117.105753</td>\n",
              "      <td>40.140551</td>\n",
              "    </tr>\n",
              "    <tr>\n",
              "      <th>...</th>\n",
              "      <td>...</td>\n",
              "      <td>...</td>\n",
              "    </tr>\n",
              "    <tr>\n",
              "      <th>182318</th>\n",
              "      <td>117.240095</td>\n",
              "      <td>40.615747</td>\n",
              "    </tr>\n",
              "    <tr>\n",
              "      <th>182319</th>\n",
              "      <td>117.111129</td>\n",
              "      <td>40.213956</td>\n",
              "    </tr>\n",
              "    <tr>\n",
              "      <th>182320</th>\n",
              "      <td>116.796412</td>\n",
              "      <td>40.562527</td>\n",
              "    </tr>\n",
              "    <tr>\n",
              "      <th>182321</th>\n",
              "      <td>116.459869</td>\n",
              "      <td>39.852378</td>\n",
              "    </tr>\n",
              "    <tr>\n",
              "      <th>182322</th>\n",
              "      <td>116.686395</td>\n",
              "      <td>40.326698</td>\n",
              "    </tr>\n",
              "  </tbody>\n",
              "</table>\n",
              "<p>182323 rows × 2 columns</p>\n",
              "</div>"
            ],
            "text/plain": [
              "          latitude  longitude\n",
              "0       116.303382  39.908620\n",
              "1       116.802076  40.335921\n",
              "2       116.807570  40.362750\n",
              "3       116.839759  40.371410\n",
              "4       117.105753  40.140551\n",
              "...            ...        ...\n",
              "182318  117.240095  40.615747\n",
              "182319  117.111129  40.213956\n",
              "182320  116.796412  40.562527\n",
              "182321  116.459869  39.852378\n",
              "182322  116.686395  40.326698\n",
              "\n",
              "[182323 rows x 2 columns]"
            ]
          },
          "metadata": {
            "tags": []
          },
          "execution_count": 13
        }
      ]
    },
    {
      "cell_type": "code",
      "metadata": {
        "id": "Os_yJaV3EsgS"
      },
      "source": [
        "\n",
        "points= np.array(data)\n",
        "points = points.tolist()\n"
      ],
      "execution_count": null,
      "outputs": []
    },
    {
      "cell_type": "code",
      "metadata": {
        "id": "EphCe5fUqVTr"
      },
      "source": [
        "############  task2"
      ],
      "execution_count": null,
      "outputs": []
    },
    {
      "cell_type": "code",
      "metadata": {
        "id": "ZVT_375d1Q6m"
      },
      "source": [
        "pointsNew = []\n",
        "index = 0\n",
        "for point in points:\n",
        "    point = [index] + point\n",
        "    pointsNew.append(point)\n",
        "    index += 1\n",
        "#print(pointsNew)\n",
        "\n",
        "tree = RegionTree(2, 10)\n",
        "for point in pointsNew:\n",
        "    tree.insert_point(Point(point))\n",
        "\n"
      ],
      "execution_count": 376,
      "outputs": []
    },
    {
      "cell_type": "code",
      "metadata": {
        "colab": {
          "base_uri": "https://localhost:8080/"
        },
        "id": "kZwOOtmt4mPc",
        "outputId": "78463823-d473-49d5-8bfc-bcda1760e363"
      },
      "source": [
        "# the height of Rtree\n",
        "print('the height of Rtree is:{}'.format(tree.root.height))"
      ],
      "execution_count": null,
      "outputs": [
        {
          "output_type": "stream",
          "text": [
            "the height of Rtree is:7\n"
          ],
          "name": "stdout"
        }
      ]
    },
    {
      "cell_type": "code",
      "metadata": {
        "id": "-Twraew02cIG",
        "colab": {
          "base_uri": "https://localhost:8080/"
        },
        "outputId": "15d7f94c-1375-4bac-8e36-48626e42b2f5"
      },
      "source": [
        "# find the number of non_leaf nodes and the number of leaf nodes\n",
        "search_queue = [tree.root]\n",
        "#print(search_queue)\n",
        "searched = []\n",
        "non_leaf = []\n",
        "leaf = []\n",
        "while search_queue:\n",
        "    node = search_queue.pop(0)\n",
        "    #print(node)\n",
        "    \n",
        "    if not node in searched:\n",
        "        if node.is_leaf():\n",
        "            leaf.append(node)\n",
        "            #print(node)\n",
        "        else:\n",
        "            search_queue += node.child_nodes\n",
        "            #print(node.child_nodes)\n",
        "            non_leaf.append(node)\n",
        "            #print(node)\n",
        "        \n",
        "        searched.append(node)\n",
        "\n",
        "print('the number of non-leaf nodes is:{}'.format(len(non_leaf)))\n",
        "print('the number of leaf nodes is:{}'.format(len(leaf)))"
      ],
      "execution_count": null,
      "outputs": [
        {
          "output_type": "stream",
          "text": [
            "the number of non-leaf nodes is:926\n",
            "the number of leaf nodes is:2740\n"
          ],
          "name": "stdout"
        }
      ]
    },
    {
      "cell_type": "code",
      "metadata": {
        "colab": {
          "base_uri": "https://localhost:8080/"
        },
        "id": "bE4Ozjb5-ba-",
        "outputId": "110c209f-5d0f-4a6a-9e43-56a5d210a5cf"
      },
      "source": [
        "print(non_leaf)"
      ],
      "execution_count": null,
      "outputs": [
        {
          "output_type": "stream",
          "text": [
            "[<__main__.Node object at 0x7f12faafd350>, <__main__.Node object at 0x7f12fb7ac110>, <__main__.Node object at 0x7f12faf07650>, <__main__.Node object at 0x7f12fbc78b50>, <__main__.Node object at 0x7f12fb32a810>, <__main__.Node object at 0x7f12faa9fc10>, <__main__.Node object at 0x7f12fa597cd0>, <__main__.Node object at 0x7f12fa3f7dd0>, <__main__.Node object at 0x7f12fb606410>, <__main__.Node object at 0x7f12fac18250>, <__main__.Node object at 0x7f12fb614110>, <__main__.Node object at 0x7f12fbab8090>, <__main__.Node object at 0x7f12fadd5090>, <__main__.Node object at 0x7f12fa9e9c50>, <__main__.Node object at 0x7f12fbd364d0>, <__main__.Node object at 0x7f12faa5bb90>, <__main__.Node object at 0x7f12fa597c90>, <__main__.Node object at 0x7f12fb096b10>, <__main__.Node object at 0x7f12fa20d710>, <__main__.Node object at 0x7f12fb34de90>, <__main__.Node object at 0x7f12fb614050>, <__main__.Node object at 0x7f12fb2d3550>, <__main__.Node object at 0x7f12f9ee8f90>, <__main__.Node object at 0x7f12faafd2d0>, <__main__.Node object at 0x7f12faba9690>, <__main__.Node object at 0x7f12fb59af50>, <__main__.Node object at 0x7f12faa15d50>, <__main__.Node object at 0x7f12fa7cc590>, <__main__.Node object at 0x7f12faf075d0>, <__main__.Node object at 0x7f12fa459a90>, <__main__.Node object at 0x7f12fa37ca50>, <__main__.Node object at 0x7f12faa4bfd0>, <__main__.Node object at 0x7f12fb7ac050>, <__main__.Node object at 0x7f12fb79d550>, <__main__.Node object at 0x7f12fa862710>, <__main__.Node object at 0x7f12fa6f3410>, <__main__.Node object at 0x7f12fa364650>, <__main__.Node object at 0x7f12fa3dfcd0>, <__main__.Node object at 0x7f12fb1c89d0>, <__main__.Node object at 0x7f12faee4050>, <__main__.Node object at 0x7f12fae123d0>, <__main__.Node object at 0x7f12fbc11cd0>, <__main__.Node object at 0x7f12fbca5b50>, <__main__.Node object at 0x7f12fb456c90>, <__main__.Node object at 0x7f12fb766850>, <__main__.Node object at 0x7f12fb7f6e10>, <__main__.Node object at 0x7f12fbab8050>, <__main__.Node object at 0x7f12fbbc6150>, <__main__.Node object at 0x7f12faf96250>, <__main__.Node object at 0x7f12fa753c10>, <__main__.Node object at 0x7f12fabdc1d0>, <__main__.Node object at 0x7f12fbb39bd0>, <__main__.Node object at 0x7f12fad6d790>, <__main__.Node object at 0x7f12fb6063d0>, <__main__.Node object at 0x7f12fba8d210>, <__main__.Node object at 0x7f12fb29d910>, <__main__.Node object at 0x7f12fa9ad550>, <__main__.Node object at 0x7f12fad58f50>, <__main__.Node object at 0x7f12fa5cae90>, <__main__.Node object at 0x7f12fbd5e050>, <__main__.Node object at 0x7f12fb5fca50>, <__main__.Node object at 0x7f12fad67a10>, <__main__.Node object at 0x7f12fa18dcd0>, <__main__.Node object at 0x7f12fb0d0550>, <__main__.Node object at 0x7f12fb8c1ed0>, <__main__.Node object at 0x7f12faa60750>, <__main__.Node object at 0x7f12fa9c4850>, <__main__.Node object at 0x7f12fa5e39d0>, <__main__.Node object at 0x7f12f9ea8290>, <__main__.Node object at 0x7f12fb009bd0>, <__main__.Node object at 0x7f12fa45f7d0>, <__main__.Node object at 0x7f12fb018250>, <__main__.Node object at 0x7f12fb950150>, <__main__.Node object at 0x7f12fb6368d0>, <__main__.Node object at 0x7f12fa0eddd0>, <__main__.Node object at 0x7f12faffc150>, <__main__.Node object at 0x7f12fb6dfa10>, <__main__.Node object at 0x7f12fa103690>, <__main__.Node object at 0x7f12fa0fa190>, <__main__.Node object at 0x7f12f9faadd0>, <__main__.Node object at 0x7f12fb309f10>, <__main__.Node object at 0x7f12fb34de50>, <__main__.Node object at 0x7f12fb2d3510>, <__main__.Node object at 0x7f12fb233b90>, <__main__.Node object at 0x7f12fa189f50>, <__main__.Node object at 0x7f12fa0b1790>, <__main__.Node object at 0x7f12fb35d7d0>, <__main__.Node object at 0x7f12fa053190>, <__main__.Node object at 0x7f12f9ee8f50>, <__main__.Node object at 0x7f12fb64c050>, <__main__.Node object at 0x7f12faa679d0>, <__main__.Node object at 0x7f12fb1a6050>, <__main__.Node object at 0x7f12fa308f50>, <__main__.Node object at 0x7f12fa081890>, <__main__.Node object at 0x7f12fa021c10>, <__main__.Node object at 0x7f12fab4f5d0>, <__main__.Node object at 0x7f12fb0969d0>, <__main__.Node object at 0x7f12facd8c90>, <__main__.Node object at 0x7f12fa8e6e10>, <__main__.Node object at 0x7f12fa9bda90>, <__main__.Node object at 0x7f12fb5ca410>, <__main__.Node object at 0x7f12fbb39790>, <__main__.Node object at 0x7f12fa97b0d0>, <__main__.Node object at 0x7f12faeeaad0>, <__main__.Node object at 0x7f12fae28dd0>, <__main__.Node object at 0x7f12fb530250>, <__main__.Node object at 0x7f12faed4390>, <__main__.Node object at 0x7f12fa5c24d0>, <__main__.Node object at 0x7f12fa800f50>, <__main__.Node object at 0x7f12fb06e890>, <__main__.Node object at 0x7f12fb28a750>, <__main__.Node object at 0x7f12fa8e7110>, <__main__.Node object at 0x7f12fb66ba90>, <__main__.Node object at 0x7f12fa911690>, <__main__.Node object at 0x7f12fa57dd50>, <__main__.Node object at 0x7f12fb3b9bd0>, <__main__.Node object at 0x7f12fabb5650>, <__main__.Node object at 0x7f12faace310>, <__main__.Node object at 0x7f12fa47bcd0>, <__main__.Node object at 0x7f12fa3c3610>, <__main__.Node object at 0x7f12fa92d050>, <__main__.Node object at 0x7f12fa6bbe90>, <__main__.Node object at 0x7f12fa425a90>, <__main__.Node object at 0x7f12fa373890>, <__main__.Node object at 0x7f12fa37ca10>, <__main__.Node object at 0x7f12fa2e7b90>, <__main__.Node object at 0x7f12fa991f90>, <__main__.Node object at 0x7f12fb096ad0>, <__main__.Node object at 0x7f12fba0b590>, <__main__.Node object at 0x7f12f9b6e790>, <__main__.Node object at 0x7f12fb9923d0>, <__main__.Node object at 0x7f12fa3644d0>, <__main__.Node object at 0x7f12fbb8acd0>, <__main__.Node object at 0x7f12fa3645d0>, <__main__.Node object at 0x7f12f9fc3b90>, <__main__.Node object at 0x7f12f9adf150>, <__main__.Node object at 0x7f12f9f2ad10>, <__main__.Node object at 0x7f12fb7c8290>, <__main__.Node object at 0x7f12fb96b090>, <__main__.Node object at 0x7f12fa908390>, <__main__.Node object at 0x7f12faa12c50>, <__main__.Node object at 0x7f12fa7bdc90>, <__main__.Node object at 0x7f12fa2e4d50>, <__main__.Node object at 0x7f12f9bca8d0>, <__main__.Node object at 0x7f12fa924910>, <__main__.Node object at 0x7f12faa639d0>, <__main__.Node object at 0x7f12fa6f33d0>, <__main__.Node object at 0x7f12f9bca990>, <__main__.Node object at 0x7f12f9b25d90>, <__main__.Node object at 0x7f12fa55b490>, <__main__.Node object at 0x7f12faa63990>, <__main__.Node object at 0x7f12fac80690>, <__main__.Node object at 0x7f12fa3acb10>, <__main__.Node object at 0x7f12fa837350>, <__main__.Node object at 0x7f12fb8c8750>, <__main__.Node object at 0x7f12fa3dfc90>, <__main__.Node object at 0x7f12faafd190>, <__main__.Node object at 0x7f12fbc47110>, <__main__.Node object at 0x7f12fae665d0>, <__main__.Node object at 0x7f12fb00f190>, <__main__.Node object at 0x7f12fadccad0>, <__main__.Node object at 0x7f12fb028110>, <__main__.Node object at 0x7f12faef3510>, <__main__.Node object at 0x7f12faea2ed0>, <__main__.Node object at 0x7f12fbc84810>, <__main__.Node object at 0x7f12fbce7ad0>, <__main__.Node object at 0x7f12fb6a8190>, <__main__.Node object at 0x7f12fb730c10>, <__main__.Node object at 0x7f12fb5c1a50>, <__main__.Node object at 0x7f12fbd38e10>, <__main__.Node object at 0x7f12fbcac410>, <__main__.Node object at 0x7f12fb84f650>, <__main__.Node object at 0x7f12fb79b290>, <__main__.Node object at 0x7f12fb79b390>, <__main__.Node object at 0x7f12fb4b8050>, <__main__.Node object at 0x7f12fb46fcd0>, <__main__.Node object at 0x7f12fb414290>, <__main__.Node object at 0x7f12fb7dd310>, <__main__.Node object at 0x7f12fb9af710>, <__main__.Node object at 0x7f12fb76c510>, <__main__.Node object at 0x7f12fa6eabd0>, <__main__.Node object at 0x7f12fbc24950>, <__main__.Node object at 0x7f12fa430bd0>, <__main__.Node object at 0x7f12f9aad590>, <__main__.Node object at 0x7f12fbb39a90>, <__main__.Node object at 0x7f12fad96350>, <__main__.Node object at 0x7f12fb9bddd0>, <__main__.Node object at 0x7f12fbc63310>, <__main__.Node object at 0x7f12fb7f6dd0>, <__main__.Node object at 0x7f12fb5571d0>, <__main__.Node object at 0x7f12fb3c3510>, <__main__.Node object at 0x7f12fb4e19d0>, <__main__.Node object at 0x7f12fb3abc90>, <__main__.Node object at 0x7f12fb11a3d0>, <__main__.Node object at 0x7f12fbc3d310>, <__main__.Node object at 0x7f12facc5510>, <__main__.Node object at 0x7f12fa753b50>, <__main__.Node object at 0x7f12fa8e6190>, <__main__.Node object at 0x7f12fb790890>, <__main__.Node object at 0x7f12fbac6bd0>, <__main__.Node object at 0x7f12fbb4af90>, <__main__.Node object at 0x7f12fbba2a90>, <__main__.Node object at 0x7f12f9db45d0>, <__main__.Node object at 0x7f12f9db4510>, <__main__.Node object at 0x7f12fbd805d0>, <__main__.Node object at 0x7f12fbbe27d0>, <__main__.Node object at 0x7f12fac9eb90>, <__main__.Node object at 0x7f12faf36c50>, <__main__.Node object at 0x7f12fad6d6d0>, <__main__.Node object at 0x7f12fb6a89d0>, <__main__.Node object at 0x7f12fb790950>, <__main__.Node object at 0x7f12fae83c90>, <__main__.Node object at 0x7f12fb6a8910>, <__main__.Node object at 0x7f12fb089b10>, <__main__.Node object at 0x7f12fac5d190>, <__main__.Node object at 0x7f12fba8d190>, <__main__.Node object at 0x7f12fbc78b10>, <__main__.Node object at 0x7f12faa2be10>, <__main__.Node object at 0x7f12fa8c89d0>, <__main__.Node object at 0x7f12fb29d890>, <__main__.Node object at 0x7f12fb926950>, <__main__.Node object at 0x7f12fb4c3b90>, <__main__.Node object at 0x7f12fb073e50>, <__main__.Node object at 0x7f12faa2b510>, <__main__.Node object at 0x7f12fb953b90>, <__main__.Node object at 0x7f12fa9ad510>, <__main__.Node object at 0x7f12fb401f90>, <__main__.Node object at 0x7f12fa5c2890>, <__main__.Node object at 0x7f12fa2fa050>, <__main__.Node object at 0x7f12faaf4890>, <__main__.Node object at 0x7f12fb2a0390>, <__main__.Node object at 0x7f12fb6ede90>, <__main__.Node object at 0x7f12ff3b9750>, <__main__.Node object at 0x7f12fb0d0450>, <__main__.Node object at 0x7f12faf10710>, <__main__.Node object at 0x7f12fb0066d0>, <__main__.Node object at 0x7f12faa40d10>, <__main__.Node object at 0x7f12fa99af50>, <__main__.Node object at 0x7f12fa78b550>, <__main__.Node object at 0x7f12fae280d0>, <__main__.Node object at 0x7f12fa8bc890>, <__main__.Node object at 0x7f12fb96bf90>, <__main__.Node object at 0x7f12fb697410>, <__main__.Node object at 0x7f12fafe35d0>, <__main__.Node object at 0x7f12fa597bd0>, <__main__.Node object at 0x7f12fafcd4d0>, <__main__.Node object at 0x7f12fb2c3c50>, <__main__.Node object at 0x7f12faa42c50>, <__main__.Node object at 0x7f12fa9d32d0>, <__main__.Node object at 0x7f12fa4f0cd0>, <__main__.Node object at 0x7f12f9ff9590>, <__main__.Node object at 0x7f12fa010890>, <__main__.Node object at 0x7f12fa9c4810>, <__main__.Node object at 0x7f12fb5c7ed0>, <__main__.Node object at 0x7f12fa5e3950>, <__main__.Node object at 0x7f12f9d5f3d0>, <__main__.Node object at 0x7f12fb20e510>, <__main__.Node object at 0x7f12faa5b990>, <__main__.Node object at 0x7f12fbca5d10>, <__main__.Node object at 0x7f12fa72d050>, <__main__.Node object at 0x7f12fa924290>, <__main__.Node object at 0x7f12fb1e7a50>, <__main__.Node object at 0x7f12fa459a10>, <__main__.Node object at 0x7f12fb5bfa90>, <__main__.Node object at 0x7f12faa60710>, <__main__.Node object at 0x7f12fb0aaed0>, <__main__.Node object at 0x7f12fb96f090>, <__main__.Node object at 0x7f12faa5bb10>, <__main__.Node object at 0x7f12fafe0d90>, <__main__.Node object at 0x7f12fa9bd110>, <__main__.Node object at 0x7f12fa1135d0>, <__main__.Node object at 0x7f12f9ea8210>, <__main__.Node object at 0x7f12f9fc9050>, <__main__.Node object at 0x7f12fa18dc10>, <__main__.Node object at 0x7f12fa2c80d0>, <__main__.Node object at 0x7f12fa3e6e90>, <__main__.Node object at 0x7f12fa0d1a90>, <__main__.Node object at 0x7f12f9cd6e90>, <__main__.Node object at 0x7f12f9e781d0>, <__main__.Node object at 0x7f12fb29d5d0>, <__main__.Node object at 0x7f12fb009b90>, <__main__.Node object at 0x7f12fb123650>, <__main__.Node object at 0x7f12fae3f490>, <__main__.Node object at 0x7f12fa797950>, <__main__.Node object at 0x7f12fb6a4e90>, <__main__.Node object at 0x7f12fb35d790>, <__main__.Node object at 0x7f12fb018210>, <__main__.Node object at 0x7f12f9e97f90>, <__main__.Node object at 0x7f12f9c55dd0>, <__main__.Node object at 0x7f12f9c94cd0>, <__main__.Node object at 0x7f12fbab4190>, <__main__.Node object at 0x7f12fbb39690>, <__main__.Node object at 0x7f12fb636810>, <__main__.Node object at 0x7f12fb8c1e90>, <__main__.Node object at 0x7f12f9ede0d0>, <__main__.Node object at 0x7f12f9eb8250>, <__main__.Node object at 0x7f12fb3c9c90>, <__main__.Node object at 0x7f12fa103050>, <__main__.Node object at 0x7f12fa103110>, <__main__.Node object at 0x7f12fa0edd50>, <__main__.Node object at 0x7f12f9d97f50>, <__main__.Node object at 0x7f12f9985690>, <__main__.Node object at 0x7f12fafe9e50>, <__main__.Node object at 0x7f12fb3b9150>, <__main__.Node object at 0x7f12fa0c0e90>, <__main__.Node object at 0x7f12fb77ff10>, <__main__.Node object at 0x7f12fb6df9d0>, <__main__.Node object at 0x7f12fb64ca10>, <__main__.Node object at 0x7f12faf84150>, <__main__.Node object at 0x7f12f99fff50>, <__main__.Node object at 0x7f12fafaa050>, <__main__.Node object at 0x7f12fa1bb350>, <__main__.Node object at 0x7f12fa0ab750>, <__main__.Node object at 0x7f12f9f0b190>, <__main__.Node object at 0x7f12f9f147d0>, <__main__.Node object at 0x7f12f9c90b10>, <__main__.Node object at 0x7f12fb031c10>, <__main__.Node object at 0x7f12fa049f50>, <__main__.Node object at 0x7f12fa1c1950>, <__main__.Node object at 0x7f12fa139c50>, <__main__.Node object at 0x7f12f9f60250>, <__main__.Node object at 0x7f12f9f3fd90>, <__main__.Node object at 0x7f12faf9bf90>, <__main__.Node object at 0x7f12fa12a410>, <__main__.Node object at 0x7f12fa0a53d0>, <__main__.Node object at 0x7f12f9ffc690>, <__main__.Node object at 0x7f12f9bc6a90>, <__main__.Node object at 0x7f12fb3c0250>, <__main__.Node object at 0x7f12fa0b4f90>, <__main__.Node object at 0x7f12f9fc1fd0>, <__main__.Node object at 0x7f12f9f3f910>, <__main__.Node object at 0x7f12f9ac8210>, <__main__.Node object at 0x7f12fb2fb5d0>, <__main__.Node object at 0x7f12fb438590>, <__main__.Node object at 0x7f12fa189f90>, <__main__.Node object at 0x7f12f9d97bd0>, <__main__.Node object at 0x7f12f9d6b1d0>, <__main__.Node object at 0x7f12f9c18490>, <__main__.Node object at 0x7f12fb312990>, <__main__.Node object at 0x7f12fb378050>, <__main__.Node object at 0x7f12fb34ddd0>, <__main__.Node object at 0x7f12fb2ffd90>, <__main__.Node object at 0x7f12fa11d950>, <__main__.Node object at 0x7f12fb14cf10>, <__main__.Node object at 0x7f12fb27d310>, <__main__.Node object at 0x7f12fb153e50>, <__main__.Node object at 0x7f12fb2d3490>, <__main__.Node object at 0x7f12fb3aeb90>, <__main__.Node object at 0x7f12fb282950>, <__main__.Node object at 0x7f12fb2bbdd0>, <__main__.Node object at 0x7f12fb248dd0>, <__main__.Node object at 0x7f12fafa1c90>, <__main__.Node object at 0x7f12fa15d4d0>, <__main__.Node object at 0x7f12fb3326d0>, <__main__.Node object at 0x7f12fb2ee710>, <__main__.Node object at 0x7f12fb15c910>, <__main__.Node object at 0x7f12fb210610>, <__main__.Node object at 0x7f12fb15fd10>, <__main__.Node object at 0x7f12fb950110>, <__main__.Node object at 0x7f12fb44c190>, <__main__.Node object at 0x7f12f9cdc910>, <__main__.Node object at 0x7f12fb314790>, <__main__.Node object at 0x7f12fa0593d0>, <__main__.Node object at 0x7f12fb32a750>, <__main__.Node object at 0x7f12f9f6ffd0>, <__main__.Node object at 0x7f12f9f33090>, <__main__.Node object at 0x7f12fa16e410>, <__main__.Node object at 0x7f12fb6a6e90>, <__main__.Node object at 0x7f12fa308f10>, <__main__.Node object at 0x7f12f9ecb510>, <__main__.Node object at 0x7f12f9dd4a10>, <__main__.Node object at 0x7f12f9c7b210>, <__main__.Node object at 0x7f12f9c9dc10>, <__main__.Node object at 0x7f12fb2d8590>, <__main__.Node object at 0x7f12fb2d8650>, <__main__.Node object at 0x7f12f9e12190>, <__main__.Node object at 0x7f12fb175610>, <__main__.Node object at 0x7f12fb2537d0>, <__main__.Node object at 0x7f12fb0f5350>, <__main__.Node object at 0x7f12fb141990>, <__main__.Node object at 0x7f12f9b907d0>, <__main__.Node object at 0x7f12fb8c8550>, <__main__.Node object at 0x7f12fb932950>, <__main__.Node object at 0x7f12fa46aa50>, <__main__.Node object at 0x7f12f9f4bc90>, <__main__.Node object at 0x7f12fa9a6950>, <__main__.Node object at 0x7f12fa4bd290>, <__main__.Node object at 0x7f12fa9195d0>, <__main__.Node object at 0x7f12faabfb10>, <__main__.Node object at 0x7f12fa3527d0>, <__main__.Node object at 0x7f12fa35b550>, <__main__.Node object at 0x7f12fb784f10>, <__main__.Node object at 0x7f12fb15af50>, <__main__.Node object at 0x7f12fab4f4d0>, <__main__.Node object at 0x7f12fb345190>, <__main__.Node object at 0x7f12fb2350d0>, <__main__.Node object at 0x7f12fac15c90>, <__main__.Node object at 0x7f12fad22b90>, <__main__.Node object at 0x7f12fabf0350>, <__main__.Node object at 0x7f12fab01250>, <__main__.Node object at 0x7f12fa7cce10>, <__main__.Node object at 0x7f12fab4f590>, <__main__.Node object at 0x7f12faa4b510>, <__main__.Node object at 0x7f12fa981850>, <__main__.Node object at 0x7f12fadf9e50>, <__main__.Node object at 0x7f12faad3a90>, <__main__.Node object at 0x7f12faf032d0>, <__main__.Node object at 0x7f12fb01c110>, <__main__.Node object at 0x7f12fad35e90>, <__main__.Node object at 0x7f12fabace50>, <__main__.Node object at 0x7f12fadeb490>, <__main__.Node object at 0x7f12fb9f1110>, <__main__.Node object at 0x7f12fadc0d90>, <__main__.Node object at 0x7f12fbcac3d0>, <__main__.Node object at 0x7f12fad2c8d0>, <__main__.Node object at 0x7f12fa8c05d0>, <__main__.Node object at 0x7f12facd1a50>, <__main__.Node object at 0x7f12fb722c10>, <__main__.Node object at 0x7f12fbb9ca10>, <__main__.Node object at 0x7f12fba96ad0>, <__main__.Node object at 0x7f12fad98110>, <__main__.Node object at 0x7f12fac56290>, <__main__.Node object at 0x7f12fbb39750>, <__main__.Node object at 0x7f12fb67f150>, <__main__.Node object at 0x7f12fa6a7e10>, <__main__.Node object at 0x7f12fb4e1690>, <__main__.Node object at 0x7f12fb635150>, <__main__.Node object at 0x7f12fad8bbd0>, <__main__.Node object at 0x7f12fad7af10>, <__main__.Node object at 0x7f12fb4e6c10>, <__main__.Node object at 0x7f12fb5a6e10>, <__main__.Node object at 0x7f12fae1b4d0>, <__main__.Node object at 0x7f12fab5d190>, <__main__.Node object at 0x7f12fb085e90>, <__main__.Node object at 0x7f12fa847a10>, <__main__.Node object at 0x7f12fa5c23d0>, <__main__.Node object at 0x7f12fa901850>, <__main__.Node object at 0x7f12fa5746d0>, <__main__.Node object at 0x7f12fa7cc510>, <__main__.Node object at 0x7f12fa675c50>, <__main__.Node object at 0x7f12fa783450>, <__main__.Node object at 0x7f12fa6b1110>, <__main__.Node object at 0x7f12fa6f3590>, <__main__.Node object at 0x7f12fbae3b90>, <__main__.Node object at 0x7f12fa488510>, <__main__.Node object at 0x7f12fbd0c990>, <__main__.Node object at 0x7f12fb3c0dd0>, <__main__.Node object at 0x7f12fb3f0f50>, <__main__.Node object at 0x7f12fae5bbd0>, <__main__.Node object at 0x7f12fac367d0>, <__main__.Node object at 0x7f12fa04cbd0>, <__main__.Node object at 0x7f12fb0e2e10>, <__main__.Node object at 0x7f12fa8e70d0>, <__main__.Node object at 0x7f12fbc8e290>, <__main__.Node object at 0x7f12fbae3c50>, <__main__.Node object at 0x7f12fa9fb910>, <__main__.Node object at 0x7f12fb647650>, <__main__.Node object at 0x7f12fa51cc50>, <__main__.Node object at 0x7f12fab77b10>, <__main__.Node object at 0x7f12fab77bd0>, <__main__.Node object at 0x7f12fb88e910>, <__main__.Node object at 0x7f12fa911650>, <__main__.Node object at 0x7f12fa6892d0>, <__main__.Node object at 0x7f12faa8d590>, <__main__.Node object at 0x7f12fb66ba50>, <__main__.Node object at 0x7f12fb28a710>, <__main__.Node object at 0x7f12fa5dc6d0>, <__main__.Node object at 0x7f12fa644b50>, <__main__.Node object at 0x7f12fb5cde50>, <__main__.Node object at 0x7f12fb8c1dd0>, <__main__.Node object at 0x7f12fad45b10>, <__main__.Node object at 0x7f12fac5ff50>, <__main__.Node object at 0x7f12fa40ca10>, <__main__.Node object at 0x7f12fb5d1d90>, <__main__.Node object at 0x7f12faad0b50>, <__main__.Node object at 0x7f12fa92afd0>, <__main__.Node object at 0x7f12faa4bf50>, <__main__.Node object at 0x7f12f9f4ba50>, <__main__.Node object at 0x7f12f9c31310>, <__main__.Node object at 0x7f12fb1d58d0>, <__main__.Node object at 0x7f12fa834310>, <__main__.Node object at 0x7f12fa3f2110>, <__main__.Node object at 0x7f12fa46ad10>, <__main__.Node object at 0x7f12fa5580d0>, <__main__.Node object at 0x7f12fa074410>, <__main__.Node object at 0x7f12fb1c8ed0>, <__main__.Node object at 0x7f12fa6a02d0>, <__main__.Node object at 0x7f12faa77450>, <__main__.Node object at 0x7f12fa692850>, <__main__.Node object at 0x7f12fb138750>, <__main__.Node object at 0x7f12faaa40d0>, <__main__.Node object at 0x7f12fac0ce50>, <__main__.Node object at 0x7f12fa6849d0>, <__main__.Node object at 0x7f12fa486710>, <__main__.Node object at 0x7f12fa373750>, <__main__.Node object at 0x7f12fa6245d0>, <__main__.Node object at 0x7f12fa373810>, <__main__.Node object at 0x7f12fa2e1410>, <__main__.Node object at 0x7f12fa6e70d0>, <__main__.Node object at 0x7f12fa4c6e50>, <__main__.Node object at 0x7f12fa396d50>, <__main__.Node object at 0x7f12fa2e4790>, <__main__.Node object at 0x7f12fa37c8d0>, <__main__.Node object at 0x7f12fa4a6d10>, <__main__.Node object at 0x7f12fa37c990>, <__main__.Node object at 0x7f12fa24df50>, <__main__.Node object at 0x7f12fa38ab10>, <__main__.Node object at 0x7f12fa465210>, <__main__.Node object at 0x7f12fa2f8850>, <__main__.Node object at 0x7f12fa321410>, <__main__.Node object at 0x7f12fa26cfd0>, <__main__.Node object at 0x7f12fa425a50>, <__main__.Node object at 0x7f12fa3a2850>, <__main__.Node object at 0x7f12fa97b650>, <__main__.Node object at 0x7f12fb3a88d0>, <__main__.Node object at 0x7f12fabdac10>, <__main__.Node object at 0x7f12facdd490>, <__main__.Node object at 0x7f12fa5c2190>, <__main__.Node object at 0x7f12fb0d4fd0>, <__main__.Node object at 0x7f12faca47d0>, <__main__.Node object at 0x7f12faf29dd0>, <__main__.Node object at 0x7f12fa519950>, <__main__.Node object at 0x7f12fbcdf7d0>, <__main__.Node object at 0x7f12fb7c8150>, <__main__.Node object at 0x7f12fb7c8210>, <__main__.Node object at 0x7f12fa308890>, <__main__.Node object at 0x7f12fa15d350>, <__main__.Node object at 0x7f12fa3453d0>, <__main__.Node object at 0x7f12faafd810>, <__main__.Node object at 0x7f12f9d04790>, <__main__.Node object at 0x7f12fbd20ad0>, <__main__.Node object at 0x7f12fa4ab1d0>, <__main__.Node object at 0x7f12fa01d6d0>, <__main__.Node object at 0x7f12fa021090>, <__main__.Node object at 0x7f12fb388f10>, <__main__.Node object at 0x7f12fa5e5210>, <__main__.Node object at 0x7f12fa2a8310>, <__main__.Node object at 0x7f12fa5e5b90>, <__main__.Node object at 0x7f12f9fc3b50>, <__main__.Node object at 0x7f12fa2b2d50>, <__main__.Node object at 0x7f12fbc3d290>, <__main__.Node object at 0x7f12fa39cc50>, <__main__.Node object at 0x7f12f9ee2bd0>, <__main__.Node object at 0x7f12fa056310>, <__main__.Node object at 0x7f12fb67fad0>, <__main__.Node object at 0x7f12fa2cb190>, <__main__.Node object at 0x7f12fa648d50>, <__main__.Node object at 0x7f12f9e830d0>, <__main__.Node object at 0x7f12fa0c3f50>, <__main__.Node object at 0x7f12fa364510>, <__main__.Node object at 0x7f12f9d8a6d0>, <__main__.Node object at 0x7f12fa2bf9d0>, <__main__.Node object at 0x7f12f9ff0fd0>, <__main__.Node object at 0x7f12fa70a210>, <__main__.Node object at 0x7f12f9adf0d0>, <__main__.Node object at 0x7f12f9b7ee90>, <__main__.Node object at 0x7f12f9c75850>, <__main__.Node object at 0x7f12fa51f610>, <__main__.Node object at 0x7f12f9f85e90>, <__main__.Node object at 0x7f12fb3d4750>, <__main__.Node object at 0x7f12fba12890>, <__main__.Node object at 0x7f12faa91bd0>, <__main__.Node object at 0x7f12fa83df90>, <__main__.Node object at 0x7f12fb7ce9d0>, <__main__.Node object at 0x7f12fbcec310>, <__main__.Node object at 0x7f12f9a19ed0>, <__main__.Node object at 0x7f12fb9e7cd0>, <__main__.Node object at 0x7f12fba80390>, <__main__.Node object at 0x7f12fb972890>, <__main__.Node object at 0x7f12f9e47b50>, <__main__.Node object at 0x7f12f9d34150>, <__main__.Node object at 0x7f12fb8cda50>, <__main__.Node object at 0x7f12f9d3a110>, <__main__.Node object at 0x7f12fa2a5f10>, <__main__.Node object at 0x7f12faa9c9d0>, <__main__.Node object at 0x7f12fb7d67d0>, <__main__.Node object at 0x7f12fa17fc90>, <__main__.Node object at 0x7f12f9ecfb10>, <__main__.Node object at 0x7f12f9fe1990>, <__main__.Node object at 0x7f12fa9a1e50>, <__main__.Node object at 0x7f12fb9e5250>, <__main__.Node object at 0x7f12faa12c10>, <__main__.Node object at 0x7f12fa862690>, <__main__.Node object at 0x7f12f9c6ca50>, <__main__.Node object at 0x7f12fa660d90>, <__main__.Node object at 0x7f12fa8d3d10>, <__main__.Node object at 0x7f12f9d44390>, <__main__.Node object at 0x7f12fa08cc50>, <__main__.Node object at 0x7f12f9b84190>, <__main__.Node object at 0x7f12fb4b6710>, <__main__.Node object at 0x7f12fa651b90>, <__main__.Node object at 0x7f12fa413710>, <__main__.Node object at 0x7f12fa530f90>, <__main__.Node object at 0x7f12fa6f32d0>, <__main__.Node object at 0x7f12fa98e190>, <__main__.Node object at 0x7f12faa2ed50>, <__main__.Node object at 0x7f12fa4c0cd0>, <__main__.Node object at 0x7f12f9d58c50>, <__main__.Node object at 0x7f12fa63a350>, <__main__.Node object at 0x7f12fa534110>, <__main__.Node object at 0x7f12fa7c3450>, <__main__.Node object at 0x7f12fa55b410>, <__main__.Node object at 0x7f12f9b25d10>, <__main__.Node object at 0x7f12fa31b850>, <__main__.Node object at 0x7f12fa3a6850>, <__main__.Node object at 0x7f12fa755710>, <__main__.Node object at 0x7f12fa65d590>, <__main__.Node object at 0x7f12fa1d7990>, <__main__.Node object at 0x7f12fab77e50>, <__main__.Node object at 0x7f12faa91250>, <__main__.Node object at 0x7f12f9b59210>, <__main__.Node object at 0x7f12fb593b10>, <__main__.Node object at 0x7f12fbb5d5d0>, <__main__.Node object at 0x7f12fa777390>, <__main__.Node object at 0x7f12fa933fd0>, <__main__.Node object at 0x7f12fb953b10>, <__main__.Node object at 0x7f12fa89e550>, <__main__.Node object at 0x7f12fa8c83d0>, <__main__.Node object at 0x7f12fa60c350>, <__main__.Node object at 0x7f12fa66f5d0>, <__main__.Node object at 0x7f12fb96fbd0>, <__main__.Node object at 0x7f12fba0b550>, <__main__.Node object at 0x7f12fa2ee310>, <__main__.Node object at 0x7f12fb8b8d10>, <__main__.Node object at 0x7f12fa2722d0>, <__main__.Node object at 0x7f12fa27b7d0>, <__main__.Node object at 0x7f12fa95bd10>, <__main__.Node object at 0x7f12fb965790>, <__main__.Node object at 0x7f12fa729290>, <__main__.Node object at 0x7f12fa93ce50>, <__main__.Node object at 0x7f12fa3dfc10>, <__main__.Node object at 0x7f12fba0b490>, <__main__.Node object at 0x7f12fa34cb10>, <__main__.Node object at 0x7f12fba741d0>, <__main__.Node object at 0x7f12fa2f21d0>, <__main__.Node object at 0x7f12f9f85cd0>, <__main__.Node object at 0x7f12fa0a5ed0>, <__main__.Node object at 0x7f12fa5006d0>, <__main__.Node object at 0x7f12fa64a050>, <__main__.Node object at 0x7f12fa840890>, <__main__.Node object at 0x7f12faed4310>, <__main__.Node object at 0x7f12faf49b10>, <__main__.Node object at 0x7f12fac2ba10>, <__main__.Node object at 0x7f12fac6c750>, <__main__.Node object at 0x7f12fadab8d0>, <__main__.Node object at 0x7f12fb06e850>, <__main__.Node object at 0x7f12faac4450>, <__main__.Node object at 0x7f12fadfc1d0>, <__main__.Node object at 0x7f12fb00f090>, <__main__.Node object at 0x7f12faee1f90>, <__main__.Node object at 0x7f12fb082cd0>, <__main__.Node object at 0x7f12faece550>, <__main__.Node object at 0x7f12fb096a10>, <__main__.Node object at 0x7f12fae22b90>, <__main__.Node object at 0x7f12faf0a850>, <__main__.Node object at 0x7f12fae4d310>, <__main__.Node object at 0x7f12fad64450>, <__main__.Node object at 0x7f12fb001450>, <__main__.Node object at 0x7f12fb5ca3d0>, <__main__.Node object at 0x7f12fae56910>, <__main__.Node object at 0x7f12faf1ded0>, <__main__.Node object at 0x7f12fad898d0>, <__main__.Node object at 0x7f12faee4690>, <__main__.Node object at 0x7f12fb01c390>, <__main__.Node object at 0x7f12fb52b6d0>, <__main__.Node object at 0x7f12fada1910>, <__main__.Node object at 0x7f12fb544b10>, <__main__.Node object at 0x7f12fb52bed0>, <__main__.Node object at 0x7f12fad4fe10>, <__main__.Node object at 0x7f12fb4a83d0>, <__main__.Node object at 0x7f12fad89e50>, <__main__.Node object at 0x7f12fbcfc9d0>, <__main__.Node object at 0x7f12fbcecad0>, <__main__.Node object at 0x7f12fb724310>, <__main__.Node object at 0x7f12fb6a8150>, <__main__.Node object at 0x7f12fb39c390>, <__main__.Node object at 0x7f12fbd233d0>, <__main__.Node object at 0x7f12fbd6f890>, <__main__.Node object at 0x7f12fb939710>, <__main__.Node object at 0x7f12fb81acd0>, <__main__.Node object at 0x7f12fb548b10>, <__main__.Node object at 0x7f12fb4fc9d0>, <__main__.Node object at 0x7f12fb97f610>, <__main__.Node object at 0x7f12fb6ff7d0>, <__main__.Node object at 0x7f12fb77f0d0>, <__main__.Node object at 0x7f12fb703890>, <__main__.Node object at 0x7f12fb7067d0>, <__main__.Node object at 0x7f12fb748e10>, <__main__.Node object at 0x7f12fb502cd0>, <__main__.Node object at 0x7f12fb62d290>, <__main__.Node object at 0x7f12fb5c1a10>, <__main__.Node object at 0x7f12fbd77990>, <__main__.Node object at 0x7f12fb88ebd0>, <__main__.Node object at 0x7f12fb855d50>, <__main__.Node object at 0x7f12fbacb550>, <__main__.Node object at 0x7f12fb8c3490>, <__main__.Node object at 0x7f12fb80b250>, <__main__.Node object at 0x7f12fbce6f50>, <__main__.Node object at 0x7f12fba18d50>, <__main__.Node object at 0x7f12fba9c190>, <__main__.Node object at 0x7f12fbb4a1d0>, <__main__.Node object at 0x7f12fba70490>, <__main__.Node object at 0x7f12fbbd2350>, <__main__.Node object at 0x7f12fba0f190>, <__main__.Node object at 0x7f12fbb71e90>, <__main__.Node object at 0x7f12fba9c090>, <__main__.Node object at 0x7f12fb876450>, <__main__.Node object at 0x7f12fb79b2d0>, <__main__.Node object at 0x7f12fb7802d0>, <__main__.Node object at 0x7f12fb624b50>, <__main__.Node object at 0x7f12fb496250>, <__main__.Node object at 0x7f12fb4b6f10>, <__main__.Node object at 0x7f12fb4b6fd0>, <__main__.Node object at 0x7f12fb4bd6d0>, <__main__.Node object at 0x7f12fb456c10>, <__main__.Node object at 0x7f12fb38d390>, <__main__.Node object at 0x7f12fb528d50>, <__main__.Node object at 0x7f12fb55dd50>, <__main__.Node object at 0x7f12fb43ec90>, <__main__.Node object at 0x7f12fb640fd0>, <__main__.Node object at 0x7f12fb4fcc90>, <__main__.Node object at 0x7f12fb58bf10>, <__main__.Node object at 0x7f12fb414250>, <__main__.Node object at 0x7f12fb83b3d0>, <__main__.Node object at 0x7f12fb7bec50>, <__main__.Node object at 0x7f12fb822210>, <__main__.Node object at 0x7f12fb92ce10>, <__main__.Node object at 0x7f12fb8b87d0>, <__main__.Node object at 0x7f12fba80e90>, <__main__.Node object at 0x7f12fba4af90>, <__main__.Node object at 0x7f12fb76f510>, <__main__.Node object at 0x7f12fb9e2690>, <__main__.Node object at 0x7f12fb76c450>, <__main__.Node object at 0x7f12fa659c90>, <__main__.Node object at 0x7f12fb8f0710>, <__main__.Node object at 0x7f12fa430b50>, <__main__.Node object at 0x7f12fbc17ed0>, <__main__.Node object at 0x7f12faaad4d0>, <__main__.Node object at 0x7f12fa57d350>, <__main__.Node object at 0x7f12f9d64a10>, <__main__.Node object at 0x7f12fa9d08d0>, <__main__.Node object at 0x7f12faaeed90>, <__main__.Node object at 0x7f12f9cbe0d0>, <__main__.Node object at 0x7f12f9a44510>, <__main__.Node object at 0x7f12fb8ec8d0>, <__main__.Node object at 0x7f12fbbebf10>, <__main__.Node object at 0x7f12fbba25d0>, <__main__.Node object at 0x7f12fbb7aed0>, <__main__.Node object at 0x7f12fbbaee10>, <__main__.Node object at 0x7f12fbcc64d0>, <__main__.Node object at 0x7f12fbb03110>, <__main__.Node object at 0x7f12fbc56590>, <__main__.Node object at 0x7f12fbadec10>, <__main__.Node object at 0x7f12fbc56650>, <__main__.Node object at 0x7f12facb02d0>, <__main__.Node object at 0x7f12fad96310>, <__main__.Node object at 0x7f12fbc63c50>, <__main__.Node object at 0x7f12fbc24910>, <__main__.Node object at 0x7f12fbc36c50>, <__main__.Node object at 0x7f12fb2d6910>, <__main__.Node object at 0x7f12fb27ad50>, <__main__.Node object at 0x7f12fb1de990>, <__main__.Node object at 0x7f12fbc979d0>, <__main__.Node object at 0x7f12fbc813d0>, <__main__.Node object at 0x7f12fbd6acd0>, <__main__.Node object at 0x7f12fb557190>, <__main__.Node object at 0x7f12fb596cd0>, <__main__.Node object at 0x7f12fb4850d0>, <__main__.Node object at 0x7f12fb40be50>, <__main__.Node object at 0x7f12fb2e2990>, <__main__.Node object at 0x7f12fbbc6090>, <__main__.Node object at 0x7f12fb4e18d0>, <__main__.Node object at 0x7f12fb4e6490>, <__main__.Node object at 0x7f12fb36ce50>, <__main__.Node object at 0x7f12fb2e4ad0>, <__main__.Node object at 0x7f12fb635510>, <__main__.Node object at 0x7f12fb332550>, <__main__.Node object at 0x7f12fb3d2b90>, <__main__.Node object at 0x7f12fb4a20d0>, <__main__.Node object at 0x7f12fb9bdd90>, <__main__.Node object at 0x7f12fb11a310>, <__main__.Node object at 0x7f12fb5f0650>, <__main__.Node object at 0x7f12fb0a0b10>, <__main__.Node object at 0x7f12fb4b4810>, <__main__.Node object at 0x7f12fb6a6d10>, <__main__.Node object at 0x7f12fb5e70d0>, <__main__.Node object at 0x7f12fb4923d0>, <__main__.Node object at 0x7f12fb438850>, <__main__.Node object at 0x7f12fb2dce10>, <__main__.Node object at 0x7f12fb7e03d0>, <__main__.Node object at 0x7f12fad06c50>, <__main__.Node object at 0x7f12facc54d0>, <__main__.Node object at 0x7f12fad58590>, <__main__.Node object at 0x7f12faf6c390>, <__main__.Node object at 0x7f12fb701e50>, <__main__.Node object at 0x7f12fadf4750>, <__main__.Node object at 0x7f12faa4ba10>, <__main__.Node object at 0x7f12faf367d0>, <__main__.Node object at 0x7f12fb69b0d0>, <__main__.Node object at 0x7f12fa84d110>, <__main__.Node object at 0x7f12fab14b50>, <__main__.Node object at 0x7f12fabe1310>, <__main__.Node object at 0x7f12fba2b2d0>, <__main__.Node object at 0x7f12fb709850>, <__main__.Node object at 0x7f12fb606290>, <__main__.Node object at 0x7f12fbcda790>, <__main__.Node object at 0x7f12fbc4cd50>, <__main__.Node object at 0x7f12fbcb1d10>, <__main__.Node object at 0x7f12fb5e4d50>, <__main__.Node object at 0x7f12fbb10350>, <__main__.Node object at 0x7f12fbc847d0>, <__main__.Node object at 0x7f12fbbb1c50>, <__main__.Node object at 0x7f12fb5e4f50>, <__main__.Node object at 0x7f12fafecb10>, <__main__.Node object at 0x7f12f9d5b390>, <__main__.Node object at 0x7f12fbc59f50>, <__main__.Node object at 0x7f12fbbe2790>, <__main__.Node object at 0x7f12fbba2a10>, <__main__.Node object at 0x7f12fb1bdb90>, <__main__.Node object at 0x7f12fb2381d0>, <__main__.Node object at 0x7f12fb49e090>, <__main__.Node object at 0x7f12fb37c910>, <__main__.Node object at 0x7f12f9c4d9d0>, <__main__.Node object at 0x7f12f9c4d910>, <__main__.Node object at 0x7f12fbb65f90>, <__main__.Node object at 0x7f12fbd5ecd0>, <__main__.Node object at 0x7f12fbc56d10>, <__main__.Node object at 0x7f12fbbb77d0>, <__main__.Node object at 0x7f12fbad4150>, <__main__.Node object at 0x7f12fba85210>, <__main__.Node object at 0x7f12fad06a10>, <__main__.Node object at 0x7f12fbd531d0>, <__main__.Node object at 0x7f12fbd053d0>, <__main__.Node object at 0x7f12fafa8bd0>, <__main__.Node object at 0x7f12fac92e10>, <__main__.Node object at 0x7f12fac72b10>, <__main__.Node object at 0x7f12fac9eb50>, <__main__.Node object at 0x7f12fb8cd690>, <__main__.Node object at 0x7f12fada2790>, <__main__.Node object at 0x7f12fac43c50>, <__main__.Node object at 0x7f12fafa4650>, <__main__.Node object at 0x7f12fae4af50>, <__main__.Node object at 0x7f12fb697e90>, <__main__.Node object at 0x7f12faf03b10>, <__main__.Node object at 0x7f12faef0190>, <__main__.Node object at 0x7f12fb11f150>, <__main__.Node object at 0x7f12fb882210>, <__main__.Node object at 0x7f12fb751d50>, <__main__.Node object at 0x7f12fb7bc410>, <__main__.Node object at 0x7f12fae83c10>, <__main__.Node object at 0x7f12faf63350>, <__main__.Node object at 0x7f12fb7095d0>, <__main__.Node object at 0x7f12fba00d90>, <__main__.Node object at 0x7f12fb8f3290>, <__main__.Node object at 0x7f12fb935e50>, <__main__.Node object at 0x7f12fba8d090>, <__main__.Node object at 0x7f12fb1f73d0>, <__main__.Node object at 0x7f12fac5d110>, <__main__.Node object at 0x7f12fa4a9090>, <__main__.Node object at 0x7f12fb8ec410>, <__main__.Node object at 0x7f12fa6de110>, <__main__.Node object at 0x7f12fb21b250>, <__main__.Node object at 0x7f12fa3bc0d0>, <__main__.Node object at 0x7f12fbb8ac50>, <__main__.Node object at 0x7f12fb265550>, <__main__.Node object at 0x7f12fab6ec50>, <__main__.Node object at 0x7f12fbcb5b10>, <__main__.Node object at 0x7f12fbc78a90>, <__main__.Node object at 0x7f12fb9d8910>, <__main__.Node object at 0x7f12fbacbad0>, <__main__.Node object at 0x7f12fb659290>, <__main__.Node object at 0x7f12f9c37ad0>, <__main__.Node object at 0x7f12fb290bd0>, <__main__.Node object at 0x7f12faf5ce90>, <__main__.Node object at 0x7f12fab71790>, <__main__.Node object at 0x7f12fa770150>, <__main__.Node object at 0x7f12fb746110>, <__main__.Node object at 0x7f12fb18a950>, <__main__.Node object at 0x7f12fa6df710>, <__main__.Node object at 0x7f12fa5ca090>, <__main__.Node object at 0x7f12fa7fa2d0>, <__main__.Node object at 0x7f12fb9837d0>, <__main__.Node object at 0x7f12fb328e90>, <__main__.Node object at 0x7f12faa8a190>, <__main__.Node object at 0x7f12fa8f9810>, <__main__.Node object at 0x7f12fa871610>, <__main__.Node object at 0x7f12fa1d3810>, <__main__.Node object at 0x7f12fb9268d0>, <__main__.Node object at 0x7f12fb4c3b50>, <__main__.Node object at 0x7f12fa3bc890>, <__main__.Node object at 0x7f12fbc5f550>, <__main__.Node object at 0x7f12fa305c90>, <__main__.Node object at 0x7f12fac0c190>, <__main__.Node object at 0x7f12fb8f3e90>, <__main__.Node object at 0x7f12fb073dd0>, <__main__.Node object at 0x7f12fa91ff10>, <__main__.Node object at 0x7f12fb29d810>, <__main__.Node object at 0x7f12fa4b9850>, <__main__.Node object at 0x7f12fb285750>, <__main__.Node object at 0x7f12fbd196d0>, <__main__.Node object at 0x7f12faa53b10>, <__main__.Node object at 0x7f12fa701310>, <__main__.Node object at 0x7f12fb3a2cd0>, <__main__.Node object at 0x7f12fa2aef50>, <__main__.Node object at 0x7f12f9df8a90>, <__main__.Node object at 0x7f12fbb72650>, <__main__.Node object at 0x7f12fb401ed0>, <__main__.Node object at 0x7f12fad58e10>, <__main__.Node object at 0x7f12fa9e9810>, <__main__.Node object at 0x7f12fa8bc390>, <__main__.Node object at 0x7f12fb64a350>, <__main__.Node object at 0x7f12fa06ba50>, <__main__.Node object at 0x7f12fa543610>, <__main__.Node object at 0x7f12fb0695d0>, <__main__.Node object at 0x7f12fa892390>, <__main__.Node object at 0x7f12fbc170d0>, <__main__.Node object at 0x7f12fb28d450>, <__main__.Node object at 0x7f12faee1550>, <__main__.Node object at 0x7f12fb742dd0>, <__main__.Node object at 0x7f12facc5350>, <__main__.Node object at 0x7f12fb614350>, <__main__.Node object at 0x7f12fb9d8210>, <__main__.Node object at 0x7f12fb138f50>, <__main__.Node object at 0x7f12fb2a0350>, <__main__.Node object at 0x7f12fae02a50>, <__main__.Node object at 0x7f12fa9e9b50>]\n"
          ],
          "name": "stdout"
        }
      ]
    },
    {
      "cell_type": "code",
      "metadata": {
        "id": "MVMSpa502cSK",
        "colab": {
          "base_uri": "https://localhost:8080/"
        },
        "outputId": "4d31d168-9a47-4b68-89f0-859e2b85bd95"
      },
      "source": [
        "# calculate the space utilisation of leaf nodes\n",
        "spaceUtilisationList = []\n",
        "for node in leaf:\n",
        "    spaceUtilisation = len(node.data_points) / node.n\n",
        "    spaceUtilisationList.append(spaceUtilisation)\n",
        "\n",
        "capacity1 = 0\n",
        "capacity2 = 0\n",
        "capacity3 = 0\n",
        "capacity4 = 0\n",
        "for i in spaceUtilisationList:\n",
        "    if i < 0.25:\n",
        "        capacity1 += 1\n",
        "    elif i < 0.5:\n",
        "        capacity2 += 1\n",
        "    elif i < 0.75:\n",
        "        capacity3 += 1\n",
        "    else:\n",
        "        capacity4 += 1\n",
        "\n",
        "print('0~25%: {}, 25~50%: {}, 50~75%: {}, 75~100%: {}' .format(capacity1, capacity2, capacity3, capacity4))"
      ],
      "execution_count": null,
      "outputs": [
        {
          "output_type": "stream",
          "text": [
            "0~25%: 0, 25~50%: 399, 50~75%: 1509, 75~100%: 832\n"
          ],
          "name": "stdout"
        }
      ]
    },
    {
      "cell_type": "code",
      "metadata": {
        "id": "FDFdbULnYeMN"
      },
      "source": [
        "# define a function to find whose child nodes is overlapped \n",
        "def MBRoverlap(node):\n",
        "  child_nodes = node.child_nodes\n",
        "  height = node.height\n",
        "  for i in range(len(child_nodes)-1):\n",
        "    node1= child_nodes[i]\n",
        "    for j in range(i+1,len(child_nodes)):\n",
        "      node2=child_nodes[j]\n",
        "      if node1.MBR.is_overlap(node2.MBR):\n",
        "        return node,height\n",
        "  return [],height"
      ],
      "execution_count": null,
      "outputs": []
    },
    {
      "cell_type": "code",
      "metadata": {
        "id": "9C0-LpFHZkhl"
      },
      "source": [
        "\n",
        "search_queue=[tree.root]\n",
        "heightList={}\n",
        "\n",
        "while search_queue:\n",
        "\n",
        "    node = search_queue.pop(0)\n",
        "    node_list = []\n",
        "    overlapNode,height = MBRoverlap(node)\n",
        "    heightList[height] = []\n",
        "    node_list.append(overlapNode)\n",
        "    #print('node_list:{}'.format(node_list))\n",
        "    heightList[height] += node_list\n",
        "    #print('heightList:{}'.format(heightList))\n",
        "    search_queue += node.child_nodes"
      ],
      "execution_count": null,
      "outputs": []
    },
    {
      "cell_type": "code",
      "metadata": {
        "colab": {
          "base_uri": "https://localhost:8080/"
        },
        "id": "EPtTBbPWJP13",
        "outputId": "0d33c2e0-3713-48bd-b3df-7a9950983bc1"
      },
      "source": [
        "# non-leaf nodes in the R-tree containing at least one pair of MBRs that overlap\n",
        "heightList\n"
      ],
      "execution_count": null,
      "outputs": [
        {
          "output_type": "execute_result",
          "data": {
            "text/plain": [
              "{1: [[]],\n",
              " 2: [<__main__.Node at 0x7f12fa9e9b50>],\n",
              " 3: [<__main__.Node at 0x7f12fb6ede90>],\n",
              " 4: [<__main__.Node at 0x7f12fad58f50>],\n",
              " 5: [<__main__.Node at 0x7f12fa9e9c50>],\n",
              " 6: [<__main__.Node at 0x7f12faf07650>],\n",
              " 7: [<__main__.Node at 0x7f12faafd350>]}"
            ]
          },
          "metadata": {
            "tags": []
          },
          "execution_count": 22
        }
      ]
    },
    {
      "cell_type": "markdown",
      "metadata": {
        "id": "GoUVtSsE1DqP"
      },
      "source": [
        ""
      ]
    },
    {
      "cell_type": "code",
      "metadata": {
        "id": "54qOJUJCaffd"
      },
      "source": [
        ""
      ],
      "execution_count": null,
      "outputs": []
    },
    {
      "cell_type": "code",
      "metadata": {
        "id": "P445HTIvaffe"
      },
      "source": [
        ""
      ],
      "execution_count": null,
      "outputs": []
    },
    {
      "cell_type": "code",
      "metadata": {
        "id": "eTAbIRDPAK_w"
      },
      "source": [
        "#########   task3 and task4"
      ],
      "execution_count": null,
      "outputs": []
    },
    {
      "cell_type": "code",
      "metadata": {
        "id": "EMB45hL0ALDe"
      },
      "source": [
        ""
      ],
      "execution_count": null,
      "outputs": []
    },
    {
      "cell_type": "code",
      "metadata": {
        "id": "lJ5zANr68xmp"
      },
      "source": [
        "def distance(data_points, query_point):\n",
        "    \"\"\"\n",
        "    Calculate the distance between 2 points\n",
        "\n",
        "    Returns the square distance between the two.\n",
        "    \"\"\"\n",
        "    answer = math.sqrt((data_points.x-query_point[0]) ** 2 + (data_points.y-query_point[1]) ** 2)\n",
        "    \n",
        "    return answer"
      ],
      "execution_count": 90,
      "outputs": []
    },
    {
      "cell_type": "code",
      "metadata": {
        "id": "-YCDDSvU8xti"
      },
      "source": [
        "def min_dist(query_point, Rect):\n",
        "    mindist = 0\n",
        "    # component on x axis\n",
        "    if query_point[0] < Rect.x1:\n",
        "        mindist += (Rect.x1 - query_point[0])**2\n",
        "    elif query_point[0] > Rect.x2:\n",
        "        mindist += (query_point[0] - Rect.x2)**2\n",
        "    # component on y axis\n",
        "    if query_point[1] < Rect.y1:\n",
        "        mindist += (Rect.y1 - query_point[1])**2\n",
        "    elif query_point[1] > Rect.y2:\n",
        "        mindist += (query_point[1] - Rect.y2)**2\n",
        "    # if the query point is inside of the node, return 0\n",
        "    return math.sqrt(mindist)"
      ],
      "execution_count": 91,
      "outputs": []
    },
    {
      "cell_type": "code",
      "metadata": {
        "id": "tjxZHO0M8xwG"
      },
      "source": [
        "def min_max_dist(query_point, Rect):\n",
        "\n",
        "    S = 0\n",
        "    px = query_point[0]\n",
        "    py = query_point[1]\n",
        "    rm1 = None\n",
        "    rm2 = None\n",
        "    rM1 = None\n",
        "    rM2 = None\n",
        "    # for i in range(2):\n",
        "    s1, s2 = Rect.x1, Rect.y1\n",
        "    t1, t2 = Rect.x2, Rect.y2\n",
        "\n",
        "\n",
        "    if px <= (s1 + t1) / (2.0):\n",
        "      rm1 = s1\n",
        "    else:\n",
        "      rm1 = t1\n",
        "    \n",
        "    if py <= (s2 + t2) / (2.0):\n",
        "      rm2 = s2\n",
        "    else:\n",
        "      rm2 = t2\n",
        "    \n",
        "\n",
        "    if px >= (s1 + t1) / (2.0):\n",
        "      rM1 = s1\n",
        "    else:\n",
        "      rM1 = t1\n",
        "    \n",
        "    if py >= (s2 + t2) / (2.0):\n",
        "      rM2 = s2\n",
        "    else:\n",
        "      rM2 = t2\n",
        "    \n",
        "    max_dist_squared1 = (px - rm1) ** 2 + (py - rM2) ** 2\n",
        "    max_dist_squared2 = (py - rm2) ** 2 + (px - rM1) ** 2\n",
        "    min_max_dist_squared = min(max_dist_squared1, max_dist_squared2)\n",
        "    min_max_dist = math.sqrt(min_max_dist_squared)\n",
        "    return min_max_dist"
      ],
      "execution_count": 92,
      "outputs": []
    },
    {
      "cell_type": "code",
      "metadata": {
        "id": "Kx2rmIOkV84O"
      },
      "source": [
        "# find the nearest neighbour of a given query point based on the R-tree\n",
        "def NNandprune(rtreenode, query_point):\n",
        "    global nearestdistance\n",
        "    global results\n",
        "    global visitednodes\n",
        "    global calculatedpoint\n",
        "    global prunedmbr\n",
        "    global nodelist\n",
        "    global index\n",
        "    visitednodes += 1\n",
        "    # if leaf node\n",
        "    if rtreenode[0][1].is_leaf():\n",
        "        node = rtreenode[0][1]# remove the first element \n",
        "        del rtreenode[0]\n",
        "        for point in node.data_points:\n",
        "            new_dis = distance(point, query_point)\n",
        "            calculatedpoint += 1\n",
        "            if new_dis <= nearestdistance:\n",
        "                results.clear()\n",
        "                results.append(point)\n",
        "                if new_dis < nearestdistance:\n",
        "                   nearestdistance = new_dis\n",
        "        return \n",
        "   \n",
        "    # for non-leaf nodes\n",
        "    else:\n",
        "        node = rtreenode[0][1]\n",
        "        # store minDist and node in ABL and sort it by minDist\n",
        "        ABL = [(min_dist(query_point,child.MBR), child) for child in node.child_nodes]\n",
        "        ABL = sorted(ABL, key=lambda t: t[0])\n",
        "        ABL_new = []\n",
        "        del rtreenode[0]\n",
        "        while (len(ABL) > 1):\n",
        "            MBR0 = ABL[0];MBR1 = ABL[1]\n",
        "            # use pruning rule 1\n",
        "            if MBR0[0] > min_max_dist(query_point,MBR1[1].MBR):\n",
        "               ABL.pop(0);prunedmbr += 1\n",
        "            elif MBR1[0] > min_max_dist(query_point,MBR0[1].MBR):\n",
        "               ABL.pop(1);prunedmbr += 1\n",
        "            else:\n",
        "                # use pruning rule 3\n",
        "                if node not in nodelist.keys():\n",
        "                   nodelist[node] = {}\n",
        "\n",
        "                if MBR0 in nodelist[node].keys():p0 = nodelist[node][MBR0]\n",
        "                else:\n",
        "                   NNandprune([MBR0], query_point);p0 = results[0];nodelist[node][MBR0] = p0    \n",
        "                   index += 1\n",
        "                if MBR1 in nodelist[node].keys():p1 = nodelist[node][MBR1]\n",
        "                else:\n",
        "                   NNandprune([MBR1], query_point);p1 = results[0];nodelist[node][MBR1] = p1\n",
        "\n",
        "                if MBR1[0] > distance(p0, query_point):\n",
        "                   ABL.pop(1);prunedmbr += 1;calculatedpoint += 1\n",
        "                elif MBR0[0] > distance(p1, query_point):\n",
        "                   ABL.pop(0);prunedmbr += 1;calculatedpoint += 1\n",
        "                elif distance(p1, query_point) > min_max_dist(query_point,MBR0[1].MBR):\n",
        "                     ABL.pop(1);calculatedpoint += 1\n",
        "                elif distance(p0, query_point) > min_max_dist(query_point,MBR1[1].MBR):\n",
        "                     ABL.pop(0);calculatedpoint += 1\n",
        "                else:\n",
        "                     abl = ABL.pop(0);ABL_new.append(abl)\n",
        "        ABL += ABL_new\n",
        "        rtreenode += ABL\n",
        "        \n",
        "\n",
        "    if rtreenode == []:\n",
        "        return\n",
        "    if nearestdistance < rtreenode[0][0]:\n",
        "        return\n",
        "    NNandprune(rtreenode, query_point)\n",
        "    return"
      ],
      "execution_count": 93,
      "outputs": []
    },
    {
      "cell_type": "code",
      "metadata": {
        "id": "TnAalqvvXv6n"
      },
      "source": [
        "query_point=[116,\t43]\n",
        "visitednodes=0\n",
        "calculatedpoint=0\n",
        "prunedmbr=0\n",
        "nodelist={}\n",
        "nearestdistance = float('inf')\n",
        "results=[]\n",
        "index=0\n",
        "NNandprune([(0, tree.root)], query_point)\n"
      ],
      "execution_count": 377,
      "outputs": []
    },
    {
      "cell_type": "code",
      "metadata": {
        "colab": {
          "base_uri": "https://localhost:8080/"
        },
        "id": "rSPmX2Ya5j-Z",
        "outputId": "e02e23dc-268c-4422-e6e3-26667f7528df"
      },
      "source": [
        "print('the point p in D that is the nearest neighbour of q:{}'.format(results[0]))"
      ],
      "execution_count": 378,
      "outputs": [
        {
          "output_type": "stream",
          "text": [
            "the point p in D that is the nearest neighbour of q:Point #121597: (116.63379499999999, 41.029933)\n"
          ],
          "name": "stdout"
        }
      ]
    },
    {
      "cell_type": "code",
      "metadata": {
        "colab": {
          "base_uri": "https://localhost:8080/"
        },
        "id": "5mGya4kseqs1",
        "outputId": "2058b0da-991c-4fb3-a1f3-e28de1f3a318"
      },
      "source": [
        "print('nearest distance:{}'.format(nearestdistance))"
      ],
      "execution_count": 379,
      "outputs": [
        {
          "output_type": "stream",
          "text": [
            "nearest distance:2.0695072086160975\n"
          ],
          "name": "stdout"
        }
      ]
    },
    {
      "cell_type": "code",
      "metadata": {
        "colab": {
          "base_uri": "https://localhost:8080/"
        },
        "id": "uzOKBbGreq2C",
        "outputId": "63f06c2d-02d4-400f-cddf-d25a9ff54348"
      },
      "source": [
        "print('the number of visited nodes:{}'.format(visitednodes))"
      ],
      "execution_count": 380,
      "outputs": [
        {
          "output_type": "stream",
          "text": [
            "the number of visited nodes:241\n"
          ],
          "name": "stdout"
        }
      ]
    },
    {
      "cell_type": "code",
      "metadata": {
        "colab": {
          "base_uri": "https://localhost:8080/"
        },
        "id": "nSGX_3aHeq-Q",
        "outputId": "9a68e018-e422-47ff-c780-6355df555e22"
      },
      "source": [
        "print(' the number of points where actual distance to q is calculated.:{}'.format(calculatedpoint))"
      ],
      "execution_count": 381,
      "outputs": [
        {
          "output_type": "stream",
          "text": [
            " the number of points where actual distance to q is calculated.:46\n"
          ],
          "name": "stdout"
        }
      ]
    },
    {
      "cell_type": "code",
      "metadata": {
        "colab": {
          "base_uri": "https://localhost:8080/"
        },
        "id": "Feefa6t6bxg2",
        "outputId": "1bf648f5-6c8f-4328-c767-410f98bcb4f0"
      },
      "source": [
        "print('the number of pruned mbr:{}'.format(prunedmbr))"
      ],
      "execution_count": 382,
      "outputs": [
        {
          "output_type": "stream",
          "text": [
            "the number of pruned mbr:178\n"
          ],
          "name": "stdout"
        }
      ]
    }
  ]
}